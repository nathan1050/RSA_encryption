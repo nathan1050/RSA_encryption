{
 "cells": [
  {
   "cell_type": "code",
   "execution_count": 1,
   "id": "cb8f525d",
   "metadata": {},
   "outputs": [],
   "source": [
    "import rsa"
   ]
  },
  {
   "cell_type": "code",
   "execution_count": 2,
   "id": "9beeb953",
   "metadata": {},
   "outputs": [],
   "source": [
    "public_key, private_key = rsa.newkeys(1024)"
   ]
  },
  {
   "cell_type": "markdown",
   "id": "c84ed796",
   "metadata": {},
   "source": [
    "Saving private and public keys as PEM files"
   ]
  },
  {
   "cell_type": "code",
   "execution_count": 4,
   "id": "a28c7fca",
   "metadata": {},
   "outputs": [],
   "source": [
    "with open(\"public.pem\", \"wb\") as f:\n",
    "    f.write(public_key.save_pkcs1(\"PEM\"))\n",
    "    \n",
    "with open(\"private.pem\", \"wb\") as f:\n",
    "    f.write(private_key.save_pkcs1(\"PEM\"))"
   ]
  },
  {
   "cell_type": "markdown",
   "id": "b202854c",
   "metadata": {},
   "source": [
    "Reading private and public keys"
   ]
  },
  {
   "cell_type": "code",
   "execution_count": null,
   "id": "f74498cb",
   "metadata": {},
   "outputs": [],
   "source": [
    "with open(\"public.pem\", \"rb\") as f:\n",
    "    public_key = rsa.PublicKey.load_pkcs1(f.read())\n",
    "    \n",
    "with open(\"private.pem\", \"rb\") as f:\n",
    "    private_key = rsa.PrivateKey.load_pkcs1(f.read())"
   ]
  },
  {
   "cell_type": "code",
   "execution_count": 17,
   "id": "b541fa89",
   "metadata": {},
   "outputs": [],
   "source": [
    "message = \"Hello, this is the decrypted message\""
   ]
  },
  {
   "cell_type": "code",
   "execution_count": 18,
   "id": "7e17ea98",
   "metadata": {},
   "outputs": [],
   "source": [
    "encrypted_message = rsa.encrypt(message.encode(), public_key)"
   ]
  },
  {
   "cell_type": "markdown",
   "id": "34b27af1",
   "metadata": {},
   "source": [
    "Saving encrypted message"
   ]
  },
  {
   "cell_type": "code",
   "execution_count": 20,
   "id": "3fcf435f",
   "metadata": {},
   "outputs": [],
   "source": [
    "with open(\"encrypted_message.txt\", \"wb\") as f:\n",
    "    f.write(encrypted_message)"
   ]
  },
  {
   "cell_type": "markdown",
   "id": "7ec33dd1",
   "metadata": {},
   "source": [
    "Openning encrypted message"
   ]
  },
  {
   "cell_type": "code",
   "execution_count": 35,
   "id": "dc1a13e6",
   "metadata": {},
   "outputs": [],
   "source": [
    "encrypted_message = open(\"encrypted_message.txt\", \"rb\").read()"
   ]
  },
  {
   "cell_type": "code",
   "execution_count": 36,
   "id": "ef8f802e",
   "metadata": {},
   "outputs": [],
   "source": [
    "decrypted_message = rsa.decrypt(encrypted_message, private_key).decode()"
   ]
  },
  {
   "cell_type": "code",
   "execution_count": 37,
   "id": "fa3a52a5",
   "metadata": {},
   "outputs": [
    {
     "data": {
      "text/plain": [
       "'Hello, this is the decrypted message'"
      ]
     },
     "execution_count": 37,
     "metadata": {},
     "output_type": "execute_result"
    }
   ],
   "source": [
    "decrypted_message"
   ]
  },
  {
   "cell_type": "code",
   "execution_count": null,
   "id": "f8d41d9c",
   "metadata": {},
   "outputs": [],
   "source": []
  },
  {
   "cell_type": "code",
   "execution_count": null,
   "id": "85a6ce13",
   "metadata": {},
   "outputs": [],
   "source": []
  },
  {
   "cell_type": "code",
   "execution_count": null,
   "id": "a07a0a0b",
   "metadata": {},
   "outputs": [],
   "source": []
  },
  {
   "cell_type": "code",
   "execution_count": null,
   "id": "4cf3c7ac",
   "metadata": {},
   "outputs": [],
   "source": []
  },
  {
   "cell_type": "code",
   "execution_count": null,
   "id": "ff4906c9",
   "metadata": {},
   "outputs": [],
   "source": []
  },
  {
   "cell_type": "code",
   "execution_count": null,
   "id": "8069d9b8",
   "metadata": {},
   "outputs": [],
   "source": []
  },
  {
   "cell_type": "code",
   "execution_count": null,
   "id": "e8f9ca67",
   "metadata": {},
   "outputs": [],
   "source": []
  }
 ],
 "metadata": {
  "kernelspec": {
   "display_name": "Python 3 (ipykernel)",
   "language": "python",
   "name": "python3"
  },
  "language_info": {
   "codemirror_mode": {
    "name": "ipython",
    "version": 3
   },
   "file_extension": ".py",
   "mimetype": "text/x-python",
   "name": "python",
   "nbconvert_exporter": "python",
   "pygments_lexer": "ipython3",
   "version": "3.8.15"
  },
  "toc": {
   "base_numbering": 1,
   "nav_menu": {},
   "number_sections": true,
   "sideBar": true,
   "skip_h1_title": false,
   "title_cell": "Table of Contents",
   "title_sidebar": "Contents",
   "toc_cell": false,
   "toc_position": {},
   "toc_section_display": true,
   "toc_window_display": false
  },
  "varInspector": {
   "cols": {
    "lenName": 16,
    "lenType": 16,
    "lenVar": 40
   },
   "kernels_config": {
    "python": {
     "delete_cmd_postfix": "",
     "delete_cmd_prefix": "del ",
     "library": "var_list.py",
     "varRefreshCmd": "print(var_dic_list())"
    },
    "r": {
     "delete_cmd_postfix": ") ",
     "delete_cmd_prefix": "rm(",
     "library": "var_list.r",
     "varRefreshCmd": "cat(var_dic_list()) "
    }
   },
   "types_to_exclude": [
    "module",
    "function",
    "builtin_function_or_method",
    "instance",
    "_Feature"
   ],
   "window_display": true
  }
 },
 "nbformat": 4,
 "nbformat_minor": 5
}
